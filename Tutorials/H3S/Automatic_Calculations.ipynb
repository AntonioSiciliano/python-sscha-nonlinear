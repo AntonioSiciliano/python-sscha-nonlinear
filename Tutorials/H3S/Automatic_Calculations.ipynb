{
 "cells": [
  {
   "cell_type": "markdown",
   "metadata": {},
   "source": [
    "# Quantum relaxation of H3S\n",
    "Sulfur hydrate is one of the most interesting system of physics, it is one of the highest Tc ever measured (203 K).\n",
    "Thanks to the very light mass of hydrogen atoms, its physical properties are dominated by anharmonicity and quantum fluctuations, making it the on of the best systems to be tackled with self-consistent harmonic approximation.\n",
    "\n",
    "In this simple tutorial we will learn how to run an automatic quantum relaxation. \n",
    "We will follow the lines of these works: [Errea et al. Nature volume 532, pages81–84(2016)](https://www.nature.com/articles/nature17175) and [Bianco et al Phys. Rev. B 97, 214101](https://journals.aps.org/prb/abstract/10.1103/PhysRevB.97.214101).\n",
    "\n",
    "I provide the H3S.scf file, that contains the lattice and the atomic position of the high symmetry phase of H3S. \n",
    "The harmonic dynamical matrix are given as computed by quantum espresso, however, they can be recomputed live by running the get_phonons.py script (needs ASE and quantum-espresso phonon package).\n",
    "\n",
    "You will see that also this case has an instability at gamma, with a phonon mode that is imaginary.\n",
    "\n",
    "# How to automatize the relaxation\n",
    "In the first PbTe tutorial we saw how to prepare the SSCHA calculation from scratch and how to manipulate ensembles and the\n",
    "minimization.\n",
    "However, all the procedure could be a bit clumsy. In this section I will show how to automatize everything.\n",
    "We will complete the PbTe simulation to get some usefull results.\n",
    "\n",
    "The automatic relaxation is performed through the Relax module, that implements two classes, one for the static cell relaxation and the other for the variable cell relaxation"
   ]
  },
  {
   "cell_type": "code",
   "execution_count": 1,
   "metadata": {},
   "outputs": [
    {
     "name": "stdout",
     "output_type": "stream",
     "text": [
      "Using matplotlib backend: Qt5Agg\n",
      "Populating the interactive namespace from numpy and matplotlib\n"
     ]
    }
   ],
   "source": [
    "# Import all important stuff\n",
    "%pylab"
   ]
  },
  {
   "cell_type": "code",
   "execution_count": 2,
   "metadata": {},
   "outputs": [],
   "source": [
    "# Import ASE to setup the automatic calculator\n",
    "import ase\n",
    "from ase.calculators.espresso import Espresso\n",
    "\n",
    "# Lets import cellconstructor\n",
    "import cellconstructor as CC\n",
    "import cellconstructor.Phonons\n",
    "\n",
    "# Import the sscha\n",
    "import sscha, sscha.Ensemble, sscha.Relax, sscha.SchaMinimizer"
   ]
  },
  {
   "cell_type": "markdown",
   "metadata": {},
   "source": [
    "To make everything clear, we will start again from the harmonic dynamical matrix for our structure:\n",
    "\n",
    "    matdyn\n",
    "    \n",
    "We need to impose the sum rule and to force it to be positive definite before starting a SSCHA calculation"
   ]
  },
  {
   "cell_type": "code",
   "execution_count": 3,
   "metadata": {},
   "outputs": [],
   "source": [
    "pseudo = {\"H\":\"H.pbe-rrkjus_psl.1.0.0.UPF\",\n",
    "         \"S\" : \"S.pbe-nl-rrkjus_psl.1.0.0.UPF\"}\n",
    "\n",
    "input_data = {\"ecutwfc\" : 35,\n",
    "              \"ecutrho\" : 350,\n",
    "              \"occupations\" : \"smearing\",\n",
    "              \"input_dft\" : \"blyp\",\n",
    "              \"mixing_beta\" : 0.2,\n",
    "              \"conv_thr\" : 1e-9,\n",
    "              \"degauss\" : 0.02,\n",
    "              \"smearing\" : \"mp\",\n",
    "              \"pseudo_dir\" : \".\",\n",
    "             \"tprnfor\" : True}\n",
    "\n",
    "\n",
    "espresso_calc = Espresso(pseudopotentials =pseudo,\n",
    "                        input_data = input_data,\n",
    "                        kspacing = 0.06,\n",
    "                        koffset = (1,1,1))"
   ]
  },
  {
   "cell_type": "code",
   "execution_count": 4,
   "metadata": {},
   "outputs": [],
   "source": [
    "# Let us load the starting dynamical matrix\n",
    "dyn = CC.Phonons.Phonons(\"dyn_pop4_\", nqirr = 3)\n",
    "\n",
    "# Apply the sum rule and delete the imaginary modes\n",
    "dyn.Symmetrize()\n",
    "dyn.ForcePositiveDefinite()\n",
    "\n",
    "# Generate the ensemble and the minimizer objects\n",
    "ensemble = sscha.Ensemble.Ensemble(dyn, 1000, supercell = dyn.GetSupercell())\n",
    "minimizer = sscha.SchaMinimizer.SSCHA_Minimizer(ensemble)\n",
    "\n",
    "# We setup all the minimization parameters\n",
    "minimizer.min_step_dyn = 0.001\n",
    "minimizer.kong_liu_ratio = 0.5"
   ]
  },
  {
   "cell_type": "markdown",
   "metadata": {},
   "source": [
    "You can automatize also the cluster calculation by setting up a cluster object \n",
    "like we did in the previous tutorials.\n",
    "If you keep it as None (as done in the following cell) the calculation will be runned locally.\n",
    "Remember, if you use the cluster, you need to copy first the pseudopotential in the working directory of the cluster."
   ]
  },
  {
   "cell_type": "code",
   "execution_count": 5,
   "metadata": {},
   "outputs": [],
   "source": [
    "# Here we prepare a cluster\n",
    "# Here we configure the cluster object MARCONI\n",
    "import sscha.Cluster\n",
    "my_hpc = sscha.Cluster.Cluster(pwd = None)\n",
    "\n",
    "# We setup the connection info\n",
    "my_hpc.hostname = \"ekhi\" # The command to connect via ssh to the cluster\n",
    "#my_hpc.account_name = \"IscrB_COMRED\" # The name of the project for the computation\n",
    "my_hpc.workdir = \"/scratch/lorenzo/my_h3s_dir\" # the directory in which the calculations are performed\n",
    "\n",
    "# Now we need to setup the espresso\n",
    "# First we must tell the cluster where to find him:\n",
    "my_hpc.binary = \"pw.x -npool NPOOL -i  PREFIX.pwi > PREFIX.pwo\"\n",
    "# Then we need to specify if some modules must be loaded in the submission script\n",
    "my_hpc.load_modules = \"\"\"\n",
    "# Here this is a bash script at the beginning of the submission\n",
    "# We can load modules\n",
    "\n",
    "module load QuantumESPRESSO\n",
    "export OMP_NUM_THREADS=1\n",
    "\"\"\"\n",
    "\n",
    "# All these information are independent from the calculation\n",
    "# Now we need some more specific info, like the number of processors, pools and other stuff\n",
    "my_hpc.n_cpu = 40 # We will use 32 processors\n",
    "my_hpc.n_nodes = 1 #In 1 node\n",
    "my_hpc.n_pool = 20 # This is an espresso specific tool, the parallel CPU are divided in 4 pools\n",
    "\n",
    "# We can also choose in how many batch of jobs we want to submit simultaneously, and how many configurations for each job\n",
    "my_hpc.batch_size = 10\n",
    "my_hpc.job_number = 20\n",
    "# In this way we submit 10 jobs, each one with 10 configurations (overall 100 configuration at time)\n",
    "\n",
    "# We give 25 seconds of timeout\n",
    "my_hpc.set_timeout(30)\n",
    "\n",
    "# We can specify the time limit for each job,\n",
    "my_hpc.time = \"00:20:00\" # 5 minutes\n",
    "\n",
    "my_hpc.setup_workdir()"
   ]
  },
  {
   "cell_type": "code",
   "execution_count": 6,
   "metadata": {},
   "outputs": [],
   "source": [
    "# We prepare the Automatic relaxation\n",
    "relax = sscha.Relax.SSCHA(minimizer, ase_calculator = espresso_calc,\n",
    "                         N_configs = 200,\n",
    "                         max_pop = 6,\n",
    "                         save_ensemble = True,\n",
    "                         cluster = my_hpc)"
   ]
  },
  {
   "cell_type": "markdown",
   "metadata": {},
   "source": [
    "Lets see the parameters:\n",
    "    \n",
    "    minimizer     : it is the SSCHA_Minimizer, containing the settings of each minimization.\n",
    "    N_configs     : the number of configurations to generate at each run (we call them populations)\n",
    "    max_pop       : The maximum number of populations after wich the calculation is stopped even if not converged.\n",
    "    save_ensemble : If True, after each energy and force calculation, the ensemble will be saved.\n",
    "    cluster       : The cluster object to be used for submitting the configurations.\n",
    "    \n",
    "\n",
    "If no cluster is provided (like in this case) the calculation is performed locally.\n",
    "The save_ensemble keyword will dave the ensemble inside the directory specified in the running command\n",
    "```python\n",
    "relax.relax(ensemble_loc = \"directory_of_the_ensemble\")\n",
    "```\n",
    "\n",
    "The calculation can be runned just by calling\n",
    "```python\n",
    "relax.relax()\n",
    "```\n",
    "And the code will proceed with the automatic SSCHA minimization.\n",
    "However, before doing so, we will setup a custom function.\n",
    "These are usefull to manipulate a bit the minimization, printing or saving extra info\n",
    "during the minimization.\n",
    "In particular, we will setup a function to be called after each minimization step of each population, that\n",
    "will save the current frequencies of the auxiliary dynamical matrix in an array, so that we will be able\n",
    "to plot the whole frequency evolution after the minimization.\n",
    "\n",
    "The following cell will start the computation. Consider that it may take long time.\n",
    "Running espresso in parallel with 4 processrs on a Intel(R) Core(TM) i7-4790K CPU at 4.00GHz the single ab-initio run takes a bit more than 1 minute. In this example we are running 20 configurations per population and up to 6 populations. \n",
    "So the overall time is about 2 hours and half.\n",
    "\n",
    "For hevier relaxations it is strongly suggested to use the cluster module, or to directly run the SSCHA from a more powerful computer.\n",
    "\n",
    "Thansk to the line inside our custom function\n",
    "```python\n",
    "np.savetxt(\"all_frequencies.dat\", all_frequencies)\n",
    "```\n",
    "we will save at each minimization step the evolution of the frequencies.\n",
    "So we can load and plot them even during the minimization, to get a clue on how frequencies of the SSCHA dynamical matrix are evolving.\n",
    "\n",
    "**NOTE**: These frequencies are not the physical frequencies of the phonon quasiparticles, but just the frequencies of the auxiliary dynamical matrix. To obtain the real physical frequencies, look at the StructuralInstability and the Dynamical spectral function tutorials."
   ]
  },
  {
   "cell_type": "code",
   "execution_count": null,
   "metadata": {
    "scrolled": false
   },
   "outputs": [],
   "source": [
    "# We reset the frequency array\n",
    "all_frequencies = []\n",
    "\n",
    "# We define a function that will be called by the code after each minimization step, \n",
    "# passing to us the minimizer at that point\n",
    "# We will store the frequencies, to plot after the minimization their evolution.\n",
    "def add_current_frequencies(minimizer):\n",
    "    # Get the frequencies\n",
    "    w, p = minimizer.dyn.DiagonalizeSupercell()\n",
    "    \n",
    "    all_frequencies.append(w)\n",
    "    \n",
    "    # In this way the file will be updated at each step\n",
    "    np.savetxt(\"all_frequencies.dat\", all_frequencies)\n",
    "\n",
    "# We add this function to the relax ojbect\n",
    "relax.setup_custom_functions(custom_function_post = add_current_frequencies)\n",
    "\n",
    "# Now we are ready to\n",
    "# ***************** RUN *****************\n",
    "relax.relax(ensemble_loc = \"data_ensemble_autorelax\")\n",
    "# ***************************************"
   ]
  },
  {
   "cell_type": "code",
   "execution_count": 8,
   "metadata": {},
   "outputs": [],
   "source": [
    "# We can save the frequency list for furture analisys\n",
    "# NOTE: This will overwrite the one given in the examples!\n",
    "np.savetxt(\"all_frequencies.dat\", all_frequencies)"
   ]
  },
  {
   "cell_type": "markdown",
   "metadata": {},
   "source": []
  },
  {
   "cell_type": "code",
   "execution_count": 9,
   "metadata": {},
   "outputs": [],
   "source": [
    "# Lets plot the minimization\n",
    "relax.minim.plot_results()"
   ]
  },
  {
   "cell_type": "code",
   "execution_count": 10,
   "metadata": {},
   "outputs": [],
   "source": [
    "# Lets plot all the frequencies in their evolution\n",
    "all_frequencies = np.loadtxt(\"all_frequencies.dat\")\n",
    "freqs = np.array(all_frequencies).T \n",
    "n_freqs = shape(freqs)[0]\n",
    "\n",
    "for i in range(n_freqs):\n",
    "    plot(freqs[i, :] * CC.Units.RY_TO_CM)\n",
    "\n",
    "savefig(\"minim.eps\")\n",
    "savefig(\"minim.png\")\n",
    "    "
   ]
  },
  {
   "cell_type": "markdown",
   "metadata": {},
   "source": [
    "# The Structural phase transition\n",
    "\n",
    "We got the minimum of the free energy, now we can compute the free energy curvature around this high symmetry structure, to discover if there are some imaginary phonons. \n",
    "In order to do this, we need the the free energy hessian:\n",
    "\n",
    "$$\n",
    "\\frac{\\partial^2 F}{\\partial R_a \\partial R_b} \\approx \\Phi_{ab} + \\sum_{pqrs}\\stackrel{(3)}{\\Phi}_{apq} \\Lambda_{pqrs} \\stackrel{(3)}{\\Phi}_{rsb}\n",
    "$$\n",
    "\n",
    "This is obtained neglecting 4 phonon scattering (that may be relevant for highly anharmonic systems).\n",
    "\n",
    "You can compute this quantity using the get_free_energy_hessian subroutine of the ensemble class.\n",
    "However, you need a bigger ensemble to get reliable results. We will use the last ensemble, but for production calculations it is advisable to generate a new, bigger, ensemble.\n",
    "\n",
    "Here, the flag include_v4 tells if you need to include the V4"
   ]
  },
  {
   "cell_type": "code",
   "execution_count": 12,
   "metadata": {},
   "outputs": [],
   "source": [
    "# Compute the free energy hessian\n",
    "free_energy_hessian = relax.minim.ensemble.get_free_energy_hessian(include_v4 = False)"
   ]
  },
  {
   "cell_type": "code",
   "execution_count": 14,
   "metadata": {},
   "outputs": [
    {
     "name": "stdout",
     "output_type": "stream",
     "text": [
      "[-3.86241653e-05 -2.54094408e-05  1.93744849e-05  3.13241198e+02\n",
      "  3.13241198e+02  3.13241198e+02  3.13241198e+02  3.13241198e+02\n",
      "  3.13241198e+02  3.30348694e+02  3.30348694e+02  3.30348694e+02\n",
      "  4.15342661e+02  4.15342661e+02  4.15342661e+02  4.15342661e+02\n",
      "  4.15342661e+02  4.15342661e+02  5.45615319e+02  5.45615319e+02\n",
      "  5.45615319e+02  5.45615319e+02  5.45615319e+02  5.45615319e+02\n",
      "  7.42041373e+02  7.42041373e+02  7.42041373e+02  7.52648326e+02\n",
      "  7.52648326e+02  7.52648326e+02  8.43506806e+02  8.43506806e+02\n",
      "  8.43506806e+02  8.43506806e+02  8.43506806e+02  8.43506806e+02\n",
      "  1.08903503e+03  1.08903503e+03  1.08903503e+03  1.08903503e+03\n",
      "  1.08903503e+03  1.08903503e+03  1.20924095e+03  1.20924095e+03\n",
      "  1.20924095e+03  1.21606945e+03  1.21606945e+03  1.21606945e+03\n",
      "  1.21606945e+03  1.21606945e+03  1.21606945e+03  1.22775643e+03\n",
      "  1.22775643e+03  1.22775643e+03  1.22775643e+03  1.22775643e+03\n",
      "  1.22775643e+03  1.23314055e+03  1.23314055e+03  1.23314055e+03\n",
      "  1.23314055e+03  1.23314055e+03  1.23314055e+03  1.25031872e+03\n",
      "  1.25031872e+03  1.25031872e+03  1.25031872e+03  1.25031872e+03\n",
      "  1.25031872e+03  1.34998026e+03  1.34998026e+03  1.34998026e+03\n",
      "  1.43074091e+03  1.43074091e+03  1.43074091e+03  1.43074091e+03\n",
      "  1.43074091e+03  1.43074091e+03  1.53256354e+03  1.53256354e+03\n",
      "  1.53256354e+03  1.57033447e+03  1.57033447e+03  1.57033447e+03\n",
      "  1.57033447e+03  1.57033447e+03  1.57033447e+03  1.63331416e+03\n",
      "  1.63331416e+03  1.63331416e+03  1.63331416e+03  1.63331416e+03\n",
      "  1.63331416e+03  1.67069280e+03  1.67069280e+03  1.67069280e+03]\n"
     ]
    }
   ],
   "source": [
    "# Now we can save the free energy hessian like it was a dynamical matrix\n",
    "free_energy_hessian.save_qe(\"hessian\")\n",
    "\n",
    "# We can print its eigenvalues to see if there are imaginary phonons\n",
    "w, p = free_energy_hessian.DiagonalizeSupercell()\n",
    "print(w * CC.Units.RY_TO_CM)"
   ]
  },
  {
   "cell_type": "markdown",
   "metadata": {},
   "source": [
    "No imaginary phonon! The structure is stable at this pressure.\n",
    "\n",
    "Remember, to get converged result, you should study this result as a function of the number of configurations and as a function of the supercell size!"
   ]
  },
  {
   "cell_type": "code",
   "execution_count": null,
   "metadata": {},
   "outputs": [],
   "source": []
  }
 ],
 "metadata": {
  "kernelspec": {
   "display_name": "Python 2",
   "language": "python",
   "name": "python2"
  },
  "language_info": {
   "codemirror_mode": {
    "name": "ipython",
    "version": 3
   },
   "file_extension": ".py",
   "mimetype": "text/x-python",
   "name": "python",
   "nbconvert_exporter": "python",
   "pygments_lexer": "ipython3",
   "version": "3.7.0"
  }
 },
 "nbformat": 4,
 "nbformat_minor": 2
}
