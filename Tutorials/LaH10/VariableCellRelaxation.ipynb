{
 "cells": [
  {
   "cell_type": "markdown",
   "metadata": {},
   "source": [
    "# Quantum variable cell relaxation of LaH10\n",
    "\n",
    "In this tutorial we will replicate the results of the work [Errea et. al, Nature 578, 66–69(2020)](https://www.nature.com/articles/s41586-020-1955-z), where they show how the rombohedral structure R-3m of LaH10, global minimum of the Born-Oppenheimer (BO) energy landscape, to collapse into the higher symmetry Fm-3m at low pressure, where this phase is unstable within the harmonic approximation. \n",
    "\n",
    "*Note*: We will use underconverged parameters to be able run the calculation on a local computer, for production runs you must study the convergence, especially with K point sampling and the supercell size."
   ]
  },
  {
   "cell_type": "markdown",
   "metadata": {},
   "source": [
    "For this tutorial, we provide a dynamical matrix, obtained by a sscha relaxation at fixed cell (see tutorial on H3S for example). "
   ]
  },
  {
   "cell_type": "code",
   "execution_count": 33,
   "metadata": {},
   "outputs": [
    {
     "name": "stdout",
     "output_type": "stream",
     "text": [
      "Using matplotlib backend: Qt5Agg\n",
      "Populating the interactive namespace from numpy and matplotlib\n"
     ]
    }
   ],
   "source": [
    "%pylab\n",
    "from __future__ import print_function"
   ]
  },
  {
   "cell_type": "markdown",
   "metadata": {},
   "source": [
    "## The ab-initio parameters\n",
    "Here we setup the calculator to compute the energy, forces and pressures of the BO energy landscape. Please, refer to [Espresso pw.x guide](https://www.quantum-espresso.org/Doc/INPUT_PW.html) for the detailed description on the input parameters, and [ASE Espresso calculator](https://wiki.fysik.dtu.dk/ase/ase/calculators/espresso.html) for a description on how to properly setup an Espresso calculator suited for your application."
   ]
  },
  {
   "cell_type": "code",
   "execution_count": 34,
   "metadata": {},
   "outputs": [],
   "source": [
    "import ase\n",
    "from ase.calculators.espresso import Espresso\n",
    "\n",
    "import cellconstructor as CC\n",
    "import cellconstructor.Phonons\n",
    "\n",
    "import sscha, sscha.Ensemble, sscha.SchaMinimizer, sscha.Relax\n",
    "\n",
    "pseudo = {\"H\": \"H.pbe-rrkjus_psl.1.0.0.UPF\",\n",
    "         \"La\" : \"La.pbe-spfn-rrkjus_psl.1.0.0.UPF\"}\n",
    "input_params = {\"tstress\" : True, # Print the stress in the output\n",
    "                \"tprnfor\" : True, # Print the forces in the output\n",
    "                \"ecutwfc\" : 35,  #The wavefunction energy cutoff for plane-waves (Ry)\n",
    "                \"ecutrho\" : 350, # The density energy cutoff (Ry)\n",
    "                \"mixing_beta\" : 0.2,  # The mixing parameter in the self-consistent calculation\n",
    "                \"conv_thr\" : 1e-9,    # The energy convergence threshold (Ry)\n",
    "                \"degauss\" : 0.02,  # Smearing temperature (Ry)\n",
    "                \"smearing\" : \"mp\",\n",
    "                \"pseudo_dir\" : \".\",\n",
    "                \"occupations\" : \"smearing\",\n",
    "               \"disk_io\" : \"none\"}\n",
    "\n",
    "k_points = (8,8,8) # The k points grid (you can alternatively specify a kspacing)\n",
    "k_offset = (1,1,1) # The offset of the grid (can increase convergence)\n",
    "\n",
    "espresso_calc = Espresso(pseudopotentials = pseudo, input_data = input_params, \n",
    "                        kpts = k_points, koffset = k_offset)"
   ]
  },
  {
   "cell_type": "markdown",
   "metadata": {},
   "source": [
    "## The preparation of the minimization\n",
    "In the following cell we prepare the minimization parameters and the ensemble."
   ]
  },
  {
   "cell_type": "code",
   "execution_count": 35,
   "metadata": {},
   "outputs": [],
   "source": [
    "# We now load the dynamical matrix\n",
    "dyn = CC.Phonons.Phonons(\"dyn\")\n",
    "dyn.Symmetrize() #Enforce the sum rule\n",
    "\n",
    "# We prepare the ensemble\n",
    "ensemble = sscha.Ensemble.Ensemble(dyn, T0 = 0, supercell = dyn.GetSupercell())\n",
    "\n",
    "# We prepare the sscha minimizer\n",
    "minim = sscha.SchaMinimizer.SSCHA_Minimizer(ensemble)\n",
    "\n",
    "# We set up the minimization parameters\n",
    "minim.min_step_dyn = 0.05     # The minimization step on the dynamical matrix\n",
    "minim.min_step_struc = 0.05   # The minimization step on the structure\n",
    "minim.kong_liu_ratio = 0.5     # The parameter that estimates whether the ensemble is still good\n",
    "minim.gradi_op = \"all\" # Check the stopping condition on both gradients"
   ]
  },
  {
   "cell_type": "markdown",
   "metadata": {},
   "source": [
    "We setup the standard sscha minimiztion. Now we must prepare the calculator for the automatic relaxation exactly like we did for the H3S example.\n",
    "Remember you can always specify a cluster for the automatic calculation:\n",
    "\n",
    "*In the case you want to use this cluster, please remember to upload the pseudos on the cluster working directory!*\n",
    "\n",
    "Skip the following cell if you do not want to setup a cluster, and run the calculation locally."
   ]
  },
  {
   "cell_type": "code",
   "execution_count": 45,
   "metadata": {},
   "outputs": [],
   "source": [
    "# Here we prepare a cluster\n",
    "# Here we configure the cluster object MARCONI\n",
    "import sscha.Cluster\n",
    "my_hpc = sscha.Cluster.Cluster(pwd = None)\n",
    "\n",
    "# We setup the connection info\n",
    "my_hpc.hostname = \"ekhi\" # The command to connect via ssh to the cluster\n",
    "#my_hpc.account_name = \"IscrB_COMRED\" # The name of the project for the computation\n",
    "my_hpc.workdir = \"/scratch/lorenzo/my_calculation\" # the directory in which the calculations are performed\n",
    "\n",
    "# Now we need to setup the espresso\n",
    "# First we must tell the cluster where to find him:\n",
    "my_hpc.binary = \"pw.x -npool NPOOL -i  PREFIX.pwi > PREFIX.pwo\"\n",
    "# Then we need to specify if some modules must be loaded in the submission script\n",
    "my_hpc.load_modules = \"\"\"\n",
    "# Here this is a bash script at the beginning of the submission\n",
    "# We can load modules\n",
    "\n",
    "module load QuantumESPRESSO\n",
    "export OMP_NUM_THREADS=1\n",
    "\"\"\"\n",
    "\n",
    "# All these information are independent from the calculation\n",
    "# Now we need some more specific info, like the number of processors, pools and other stuff\n",
    "my_hpc.n_cpu = 32 # We will use 32 processors\n",
    "my_hpc.n_nodes = 1 #In 1 node\n",
    "my_hpc.n_pool = 16 # This is an espresso specific tool, the parallel CPU are divided in 4 pools\n",
    "\n",
    "# We can also choose in how many batch of jobs we want to submit simultaneously, and how many configurations for each job\n",
    "my_hpc.batch_size = 20\n",
    "my_hpc.job_number = 20\n",
    "# In this way we submit 10 jobs, each one with 10 configurations (overall 100 configuration at time)\n",
    "\n",
    "# We give 25 seconds of timeout\n",
    "my_hpc.set_timeout(25)\n",
    "\n",
    "# We can specify the time limit for each job,\n",
    "my_hpc.time = \"00:10:00\" # 5 minutes\n",
    "\n",
    "# Create the working directory if none on the cluster \n",
    "# And check the connection\n",
    "my_hpc.setup_workdir()"
   ]
  },
  {
   "cell_type": "markdown",
   "metadata": {},
   "source": [
    "## Prepare the automatic relaxation\n",
    "Now we prepare the relaxation object. \n",
    "We use the same object (SSCHA) inside the Relax module as we did for the H3S example.\n",
    "set my_hpc to None if you want to run the calculation locally"
   ]
  },
  {
   "cell_type": "code",
   "execution_count": 47,
   "metadata": {},
   "outputs": [],
   "source": [
    "# Decomment the following line if you did not set up the cluster\n",
    "#my_hpc = None\n",
    "\n",
    "relax = sscha.Relax.SSCHA(minim, ase_calculator = espresso_calc,\n",
    "                         N_configs = 400,\n",
    "                         max_pop = 20,\n",
    "                         save_ensemble = True,\n",
    "                         cluster = my_hpc)"
   ]
  },
  {
   "cell_type": "markdown",
   "metadata": {},
   "source": [
    "This time we are interested in plotting the symmetry analisys, as we evolve the minimization"
   ]
  },
  {
   "cell_type": "code",
   "execution_count": 48,
   "metadata": {},
   "outputs": [
    {
     "name": "stdout",
     "output_type": "stream",
     "text": [
      "The original spacegroup is: R-3m (166)\n"
     ]
    }
   ],
   "source": [
    "import spglib\n",
    "print (\"The original spacegroup is:\", spglib.get_spacegroup(dyn.structure.get_ase_atoms(), 0.05))"
   ]
  },
  {
   "cell_type": "markdown",
   "metadata": {},
   "source": [
    "We create a custom function to print the spacegroup after each iteration of the minimization.\n",
    "In this way we can follow the evolution of the dynamical matrix as it evolves.\n",
    "We use a threshold for symmetries of 0.05 A. Remember that the SSCHA is a stochastic method, the atomic position is affected by stochastic noise.\n",
    "If you want to increase your accuracy in the identification of the spacegroup, you should accordingly increase the number of configurations, remember that the stochastic noise scales as $1/\\sqrt{N_{configs}}$."
   ]
  },
  {
   "cell_type": "code",
   "execution_count": 49,
   "metadata": {},
   "outputs": [],
   "source": [
    "# we define a function that prints the space group during the optimization\n",
    "space_groups = []\n",
    "def print_spacegroup(minim):\n",
    "    spgroup = spglib.get_spacegroup(minim.dyn.structure.get_ase_atoms(), 0.05)\n",
    "    space_groups.append(spgroup)\n",
    "    \n",
    "    # We can save them in the output at each minimization step\n",
    "    f = open(\"space_group.dat\", \"w\")\n",
    "    f.writelines([\"{}) {}\\n\".format(i+1, x) for i,x in enumerate(space_groups)])\n",
    "    f.close()\n",
    "    \n",
    "relax.setup_custom_functions(custom_function_post = print_spacegroup)"
   ]
  },
  {
   "cell_type": "markdown",
   "metadata": {},
   "source": [
    "## Perform the variable cell relaxation\n",
    "We are ready to start a variable cell relaxation. There are two different variable cell relaxations implemented in the SSCHA code: target pressure or fixed volume.\n",
    "In the target pressure calculation, the SSCHA adapts the cell until the stress stress tensor is uniform and reproduces the pressure we want. In this calculation the volume changes. In the fixed volume, instead, the SSCHA optimizes the cell parameters keeping the overall volume unchanged.\n",
    "\n",
    "We will use the latter in this example, but feel free to experiment by selecting fix_volume to false, and manually change the target_pressure argument. I prepared another command (commented) to perform a variable cell relaxation with target pressure.\n",
    "\n",
    "The advantage of keeping the volume fixed is that we reduce the number of degrees of freedom in the cell optimization.\n",
    "\n",
    "The static_bulk_modulus is a flag that allow the program to estimate, given the stress tensor, how to change the unit cell to reach the optimal value in the lowest number of steps. A good value is the static bulk modulus, that is the derivative pressure with respect to the volume times the volume. The code expects it in GPa.\n",
    "Usually for high pressure materials, the bulk modulus is around hundreds of GPa, while for ice at ambient pressure is about 10 GPa. A high value of the bulk modulus will mean a slower change in the unit cell, so if you have the fealing that the unit cell is not changing a lot between sequent steps, try to reduce it.  "
   ]
  },
  {
   "cell_type": "code",
   "execution_count": null,
   "metadata": {},
   "outputs": [
    {
     "name": "stderr",
     "output_type": "stream",
     "text": [
      "Error with cmd: ssh  ekhi 'rm -f /scratch/lorenzo/my_calculation/ESP_240.pwi /scratch/lorenzo/my_calculation/ESP_240.pwo'\n",
      "\n",
      "EXITSTATUS: 255; attempt = 1\n",
      "Error with cmd: scp  cluster_work//ESP_240.pwi ekhi:/scratch/lorenzo/my_calculation/\n",
      "\n",
      "EXITSTATUS: 1; attempt = 1\n",
      "scp  cluster_work//ESP_240.pwi ekhi:/scratch/lorenzo/my_calculation/: exit with code False\n",
      "Error with cmd: ssh  ekhi 'rm -f /scratch/lorenzo/my_calculation/ESP_300.pwi /scratch/lorenzo/my_calculation/ESP_300.pwo'\n",
      "\n",
      "EXITSTATUS: 255; attempt = 1\n",
      "Error with cmd: ssh  ekhi 'rm -f /scratch/lorenzo/my_calculation/ESP_380.pwi /scratch/lorenzo/my_calculation/ESP_380.pwo'\n",
      "\n",
      "EXITSTATUS: 255; attempt = 1\n",
      "Error with cmd: ssh  ekhi 'rm -f /scratch/lorenzo/my_calculation/ESP_241.pwi /scratch/lorenzo/my_calculation/ESP_241.pwo'\n",
      "\n",
      "EXITSTATUS: 255; attempt = 1\n",
      "Error with cmd: scp  cluster_work//ESP_380.pwi ekhi:/scratch/lorenzo/my_calculation/\n",
      "\n",
      "EXITSTATUS: 1; attempt = 1\n",
      "scp  cluster_work//ESP_380.pwi ekhi:/scratch/lorenzo/my_calculation/: exit with code False\n"
     ]
    },
    {
     "name": "stdout",
     "output_type": "stream",
     "text": [
      "Error while executing: scp  cluster_work//ESP_240.pwi ekhi:/scratch/lorenzo/my_calculation/\n",
      "Return code: False\n",
      "Error while executing: scp  cluster_work//ESP_380.pwi ekhi:/scratch/lorenzo/my_calculation/\n",
      "Return code: False\n"
     ]
    },
    {
     "name": "stderr",
     "output_type": "stream",
     "text": [
      "Error with cmd: ssh  ekhi 'rm -f /scratch/lorenzo/my_calculation/ESP_260.pwi /scratch/lorenzo/my_calculation/ESP_260.pwo'\n",
      "\n",
      "EXITSTATUS: 255; attempt = 1\n",
      "Error with cmd: ssh  ekhi 'rm -f /scratch/lorenzo/my_calculation/ESP_320.pwi /scratch/lorenzo/my_calculation/ESP_320.pwo'\n",
      "\n",
      "EXITSTATUS: 255; attempt = 1\n",
      "Error with cmd: scp  cluster_work//ESP_320.pwi ekhi:/scratch/lorenzo/my_calculation/\n",
      "\n",
      "EXITSTATUS: 1; attempt = 1\n",
      "scp  cluster_work//ESP_320.pwi ekhi:/scratch/lorenzo/my_calculation/: exit with code False\n",
      "Error with cmd: ssh  ekhi 'rm -f /scratch/lorenzo/my_calculation/ESP_242.pwi /scratch/lorenzo/my_calculation/ESP_242.pwo'\n",
      "\n",
      "EXITSTATUS: 255; attempt = 1\n"
     ]
    },
    {
     "name": "stdout",
     "output_type": "stream",
     "text": [
      "Error while executing: scp  cluster_work//ESP_320.pwi ekhi:/scratch/lorenzo/my_calculation/\n",
      "Return code: False\n"
     ]
    },
    {
     "name": "stderr",
     "output_type": "stream",
     "text": [
      "Error with cmd: scp  cluster_work//ESP_381.pwi ekhi:/scratch/lorenzo/my_calculation/\n",
      "\n",
      "EXITSTATUS: 1; attempt = 1\n",
      "scp  cluster_work//ESP_381.pwi ekhi:/scratch/lorenzo/my_calculation/: exit with code False\n",
      "Error with cmd: ssh  ekhi 'rm -f /scratch/lorenzo/my_calculation/ESP_121.pwi /scratch/lorenzo/my_calculation/ESP_121.pwo'\n",
      "\n",
      "EXITSTATUS: 255; attempt = 1\n",
      "Error with cmd: scp  cluster_work//ESP_121.pwi ekhi:/scratch/lorenzo/my_calculation/\n",
      "\n",
      "EXITSTATUS: 1; attempt = 1\n",
      "scp  cluster_work//ESP_121.pwi ekhi:/scratch/lorenzo/my_calculation/: exit with code False\n",
      "Error with cmd: ssh  ekhi 'rm -f /scratch/lorenzo/my_calculation/ESP_122.pwi /scratch/lorenzo/my_calculation/ESP_122.pwo'\n",
      "\n",
      "EXITSTATUS: 255; attempt = 1\n"
     ]
    },
    {
     "name": "stdout",
     "output_type": "stream",
     "text": [
      "Error while executing: scp  cluster_work//ESP_381.pwi ekhi:/scratch/lorenzo/my_calculation/\n",
      "Return code: False\n",
      "Error while executing: scp  cluster_work//ESP_121.pwi ekhi:/scratch/lorenzo/my_calculation/\n",
      "Return code: False\n"
     ]
    },
    {
     "name": "stderr",
     "output_type": "stream",
     "text": [
      "Error with cmd: ssh  ekhi 'rm -f /scratch/lorenzo/my_calculation/ESP_101.pwi /scratch/lorenzo/my_calculation/ESP_101.pwo'\n",
      "\n",
      "EXITSTATUS: 255; attempt = 1\n",
      "Error with cmd: ssh  ekhi 'rm -f /scratch/lorenzo/my_calculation/ESP_302.pwi /scratch/lorenzo/my_calculation/ESP_302.pwo'\n",
      "\n",
      "EXITSTATUS: 255; attempt = 1\n",
      "Error with cmd: scp  cluster_work//ESP_302.pwi ekhi:/scratch/lorenzo/my_calculation/\n",
      "\n",
      "EXITSTATUS: 1; attempt = 1\n",
      "scp  cluster_work//ESP_302.pwi ekhi:/scratch/lorenzo/my_calculation/: exit with code False\n"
     ]
    },
    {
     "name": "stdout",
     "output_type": "stream",
     "text": [
      "Error while executing: scp  cluster_work//ESP_302.pwi ekhi:/scratch/lorenzo/my_calculation/\n",
      "Return code: False\n"
     ]
    },
    {
     "name": "stderr",
     "output_type": "stream",
     "text": [
      "Error with cmd: scp  cluster_work//ESP_341.pwi ekhi:/scratch/lorenzo/my_calculation/\n",
      "\n",
      "EXITSTATUS: 1; attempt = 1\n",
      "scp  cluster_work//ESP_341.pwi ekhi:/scratch/lorenzo/my_calculation/: exit with code False\n"
     ]
    },
    {
     "name": "stdout",
     "output_type": "stream",
     "text": [
      "Error while executing: scp  cluster_work//ESP_341.pwi ekhi:/scratch/lorenzo/my_calculation/\n",
      "Return code: False\n"
     ]
    },
    {
     "name": "stderr",
     "output_type": "stream",
     "text": [
      "Error with cmd: scp  cluster_work//ESP_263.pwi ekhi:/scratch/lorenzo/my_calculation/\n",
      "\n",
      "EXITSTATUS: 1; attempt = 1\n",
      "scp  cluster_work//ESP_263.pwi ekhi:/scratch/lorenzo/my_calculation/: exit with code False\n"
     ]
    },
    {
     "name": "stdout",
     "output_type": "stream",
     "text": [
      "Error while executing: scp  cluster_work//ESP_263.pwi ekhi:/scratch/lorenzo/my_calculation/\n",
      "Return code: False\n"
     ]
    },
    {
     "name": "stderr",
     "output_type": "stream",
     "text": [
      "Error with cmd: ssh  ekhi 'rm -f /scratch/lorenzo/my_calculation/ESP_305.pwi /scratch/lorenzo/my_calculation/ESP_305.pwo'\n",
      "\n",
      "EXITSTATUS: 255; attempt = 1\n",
      "Error with cmd: ssh  ekhi 'rm -f /scratch/lorenzo/my_calculation/ESP_84.pwi /scratch/lorenzo/my_calculation/ESP_84.pwo'\n",
      "\n",
      "EXITSTATUS: 255; attempt = 1\n",
      "Error with cmd: ssh  ekhi 'rm -f /scratch/lorenzo/my_calculation/ESP_284.pwi /scratch/lorenzo/my_calculation/ESP_284.pwo'\n",
      "\n",
      "EXITSTATUS: 255; attempt = 1\n",
      "Error with cmd: ssh  ekhi 'rm -f /scratch/lorenzo/my_calculation/ESP_344.pwi /scratch/lorenzo/my_calculation/ESP_344.pwo'\n",
      "\n",
      "EXITSTATUS: 255; attempt = 1\n",
      "Error with cmd: ssh  ekhi 'rm -f /scratch/lorenzo/my_calculation/ESP_44.pwi /scratch/lorenzo/my_calculation/ESP_44.pwo'\n",
      "\n",
      "EXITSTATUS: 255; attempt = 1\n",
      "Error with cmd: scp  cluster_work//ESP_344.pwi ekhi:/scratch/lorenzo/my_calculation/\n",
      "\n",
      "EXITSTATUS: 1; attempt = 1\n",
      "scp  cluster_work//ESP_344.pwi ekhi:/scratch/lorenzo/my_calculation/: exit with code False\n"
     ]
    },
    {
     "name": "stdout",
     "output_type": "stream",
     "text": [
      "Error while executing: scp  cluster_work//ESP_344.pwi ekhi:/scratch/lorenzo/my_calculation/\n",
      "Return code: False\n"
     ]
    },
    {
     "name": "stderr",
     "output_type": "stream",
     "text": [
      "Error with cmd: ssh  ekhi 'rm -f /scratch/lorenzo/my_calculation/ESP_306.pwi /scratch/lorenzo/my_calculation/ESP_306.pwo'\n",
      "\n",
      "EXITSTATUS: 255; attempt = 1\n",
      "Error with cmd: scp  cluster_work//ESP_345.pwi ekhi:/scratch/lorenzo/my_calculation/\n",
      "\n",
      "EXITSTATUS: 1; attempt = 1\n",
      "scp  cluster_work//ESP_345.pwi ekhi:/scratch/lorenzo/my_calculation/: exit with code False\n",
      "Error with cmd: ssh  ekhi 'rm -f /scratch/lorenzo/my_calculation/ESP_285.pwi /scratch/lorenzo/my_calculation/ESP_285.pwo'\n",
      "\n",
      "EXITSTATUS: 255; attempt = 1\n",
      "Error with cmd: ssh  ekhi 'rm -f /scratch/lorenzo/my_calculation/ESP_45.pwi /scratch/lorenzo/my_calculation/ESP_45.pwo'\n",
      "\n",
      "EXITSTATUS: 255; attempt = 1\n"
     ]
    },
    {
     "name": "stdout",
     "output_type": "stream",
     "text": [
      "Error while executing: scp  cluster_work//ESP_345.pwi ekhi:/scratch/lorenzo/my_calculation/\n",
      "Return code: False\n"
     ]
    },
    {
     "name": "stderr",
     "output_type": "stream",
     "text": [
      "Error with cmd: ssh  ekhi 'rm -f /scratch/lorenzo/my_calculation/ESP_365.pwi /scratch/lorenzo/my_calculation/ESP_365.pwo'\n",
      "\n",
      "EXITSTATUS: 255; attempt = 1\n",
      "Error with cmd: ssh  ekhi 'rm -f /scratch/lorenzo/my_calculation/ESP_386.pwi /scratch/lorenzo/my_calculation/ESP_386.pwo'\n",
      "\n",
      "EXITSTATUS: 255; attempt = 1\n",
      "Error with cmd: ssh  ekhi 'rm -f /scratch/lorenzo/my_calculation/ESP_366.pwi /scratch/lorenzo/my_calculation/ESP_366.pwo'\n",
      "\n",
      "EXITSTATUS: 255; attempt = 1\n",
      "Error with cmd: ssh  ekhi 'rm -f /scratch/lorenzo/my_calculation/ESP_86.pwi /scratch/lorenzo/my_calculation/ESP_86.pwo'\n",
      "\n",
      "EXITSTATUS: 255; attempt = 1\n",
      "Error with cmd: ssh  ekhi 'rm -f /scratch/lorenzo/my_calculation/ESP_6.pwi /scratch/lorenzo/my_calculation/ESP_6.pwo'\n",
      "\n",
      "EXITSTATUS: 255; attempt = 1\n",
      "Error with cmd: ssh  ekhi 'rm -f /scratch/lorenzo/my_calculation/ESP_47.pwi /scratch/lorenzo/my_calculation/ESP_47.pwo'\n",
      "\n",
      "EXITSTATUS: 255; attempt = 1\n",
      "Error with cmd: ssh  ekhi 'rm -f /scratch/lorenzo/my_calculation/ESP_7.pwi /scratch/lorenzo/my_calculation/ESP_7.pwo'\n",
      "\n",
      "EXITSTATUS: 255; attempt = 1\n",
      "Error with cmd: scp  cluster_work//ESP_66.pwi ekhi:/scratch/lorenzo/my_calculation/\n",
      "\n",
      "EXITSTATUS: 1; attempt = 1\n",
      "scp  cluster_work//ESP_66.pwi ekhi:/scratch/lorenzo/my_calculation/: exit with code False\n",
      "Error with cmd: ssh  ekhi 'rm -f /scratch/lorenzo/my_calculation/ESP_207.pwi /scratch/lorenzo/my_calculation/ESP_207.pwo'\n",
      "\n",
      "EXITSTATUS: 255; attempt = 1\n",
      "Error with cmd: ssh  ekhi 'rm -f /scratch/lorenzo/my_calculation/ESP_48.pwi /scratch/lorenzo/my_calculation/ESP_48.pwo'\n",
      "\n",
      "EXITSTATUS: 255; attempt = 1\n",
      "Error with cmd: scp  cluster_work//ESP_207.pwi ekhi:/scratch/lorenzo/my_calculation/\n",
      "\n",
      "EXITSTATUS: 1; attempt = 1\n",
      "scp  cluster_work//ESP_207.pwi ekhi:/scratch/lorenzo/my_calculation/: exit with code False\n"
     ]
    },
    {
     "name": "stdout",
     "output_type": "stream",
     "text": [
      "Error while executing: scp  cluster_work//ESP_66.pwi ekhi:/scratch/lorenzo/my_calculation/\n",
      "Return code: False\n",
      "Error while executing: scp  cluster_work//ESP_207.pwi ekhi:/scratch/lorenzo/my_calculation/\n",
      "Return code: False\n"
     ]
    },
    {
     "name": "stderr",
     "output_type": "stream",
     "text": [
      "Error with cmd: scp  cluster_work//ESP_208.pwi ekhi:/scratch/lorenzo/my_calculation/\n",
      "Error with cmd: scp  cluster_work//ESP_288.pwi ekhi:/scratch/lorenzo/my_calculation/\n",
      "\n",
      "\n",
      "EXITSTATUS: 1; attempt = 1\n",
      "scp  cluster_work//ESP_208.pwi ekhi:/scratch/lorenzo/my_calculation/: exit with code False\n",
      "EXITSTATUS: 1; attempt = 1\n",
      "scp  cluster_work//ESP_288.pwi ekhi:/scratch/lorenzo/my_calculation/: exit with code False\n"
     ]
    },
    {
     "name": "stdout",
     "output_type": "stream",
     "text": [
      "Error while executing: scp  cluster_work//ESP_208.pwi ekhi:/scratch/lorenzo/my_calculation/\n",
      "Return code: False\n",
      "Error while executing: scp  cluster_work//ESP_288.pwi ekhi:/scratch/lorenzo/my_calculation/\n",
      "Return code: False\n"
     ]
    },
    {
     "name": "stderr",
     "output_type": "stream",
     "text": [
      "Error with cmd: scp  cluster_work//ESP_289.pwi ekhi:/scratch/lorenzo/my_calculation/\n",
      "\n",
      "EXITSTATUS: 1; attempt = 1\n",
      "scp  cluster_work//ESP_289.pwi ekhi:/scratch/lorenzo/my_calculation/: exit with code False\n",
      "Error with cmd: ssh  ekhi 'rm -f /scratch/lorenzo/my_calculation/ESP_68.pwi /scratch/lorenzo/my_calculation/ESP_68.pwo'\n",
      "\n",
      "EXITSTATUS: 255; attempt = 1\n"
     ]
    },
    {
     "name": "stdout",
     "output_type": "stream",
     "text": [
      "Error while executing: scp  cluster_work//ESP_289.pwi ekhi:/scratch/lorenzo/my_calculation/\n",
      "Return code: False\n"
     ]
    },
    {
     "name": "stderr",
     "output_type": "stream",
     "text": [
      "Error with cmd: scp  cluster_work//ESP_49.pwi ekhi:/scratch/lorenzo/my_calculation/\n",
      "\n",
      "EXITSTATUS: 1; attempt = 1\n",
      "scp  cluster_work//ESP_49.pwi ekhi:/scratch/lorenzo/my_calculation/: exit with code False\n"
     ]
    },
    {
     "name": "stdout",
     "output_type": "stream",
     "text": [
      "Error while executing: scp  cluster_work//ESP_49.pwi ekhi:/scratch/lorenzo/my_calculation/\n",
      "Return code: False\n"
     ]
    },
    {
     "name": "stderr",
     "output_type": "stream",
     "text": [
      "Error with cmd: ssh  ekhi 'rm -f /scratch/lorenzo/my_calculation/ESP_370.pwi /scratch/lorenzo/my_calculation/ESP_370.pwo'\n",
      "\n",
      "EXITSTATUS: 255; attempt = 1\n",
      "Error with cmd: ssh  ekhi 'rm -f /scratch/lorenzo/my_calculation/ESP_211.pwi /scratch/lorenzo/my_calculation/ESP_211.pwo'\n",
      "\n",
      "EXITSTATUS: 255; attempt = 1\n",
      "Error with cmd: ssh  ekhi 'rm -f /scratch/lorenzo/my_calculation/ESP_351.pwi /scratch/lorenzo/my_calculation/ESP_351.pwo'\n",
      "\n",
      "EXITSTATUS: 255; attempt = 1\n",
      "Error with cmd: scp  cluster_work//ESP_131.pwi ekhi:/scratch/lorenzo/my_calculation/\n",
      "\n",
      "EXITSTATUS: 1; attempt = 1\n",
      "Error with cmd: scp  cluster_work//ESP_330.pwi ekhi:/scratch/lorenzo/my_calculation/\n",
      "\n",
      "EXITSTATUS: 1; attempt = 1\n",
      "scp  cluster_work//ESP_131.pwi ekhi:/scratch/lorenzo/my_calculation/: exit with code False\n",
      "scp  cluster_work//ESP_330.pwi ekhi:/scratch/lorenzo/my_calculation/: exit with code False\n",
      "Error with cmd: ssh  ekhi 'rm -f /scratch/lorenzo/my_calculation/ESP_30.pwi /scratch/lorenzo/my_calculation/ESP_30.pwo'\n",
      "\n",
      "EXITSTATUS: 255; attempt = 1\n",
      "Error with cmd: ssh  ekhi 'rm -f /scratch/lorenzo/my_calculation/ESP_331.pwi /scratch/lorenzo/my_calculation/ESP_331.pwo'\n",
      "\n",
      "EXITSTATUS: 255; attempt = 1\n",
      "Error with cmd: ssh  ekhi 'rm -f /scratch/lorenzo/my_calculation/ESP_132.pwi /scratch/lorenzo/my_calculation/ESP_132.pwo'\n",
      "\n",
      "EXITSTATUS: 255; attempt = 1\n"
     ]
    },
    {
     "name": "stdout",
     "output_type": "stream",
     "text": [
      "Error while executing: scp  cluster_work//ESP_131.pwi ekhi:/scratch/lorenzo/my_calculation/\n",
      "Return code:Error while executing: scp  cluster_work//ESP_330.pwi ekhi:/scratch/lorenzo/my_calculation/\n",
      " False\n",
      "Return code: False\n"
     ]
    },
    {
     "name": "stderr",
     "output_type": "stream",
     "text": [
      "Error with cmd: ssh  ekhi 'rm -f /scratch/lorenzo/my_calculation/ESP_212.pwi /scratch/lorenzo/my_calculation/ESP_212.pwo'\n",
      "\n",
      "EXITSTATUS: 255; attempt = 1\n",
      "Error with cmd: ssh  ekhi 'rm -f /scratch/lorenzo/my_calculation/ESP_312.pwi /scratch/lorenzo/my_calculation/ESP_312.pwo'\n",
      "\n",
      "EXITSTATUS: 255; attempt = 1\n",
      "Error with cmd: ssh  ekhi 'rm -f /scratch/lorenzo/my_calculation/ESP_31.pwi /scratch/lorenzo/my_calculation/ESP_31.pwo'\n",
      "\n",
      "EXITSTATUS: 255; attempt = 1\n",
      "Error with cmd: scp  cluster_work//ESP_312.pwi ekhi:/scratch/lorenzo/my_calculation/\n",
      "\n",
      "EXITSTATUS: 1; attempt = 1\n",
      "scp  cluster_work//ESP_312.pwi ekhi:/scratch/lorenzo/my_calculation/: exit with code False\n"
     ]
    },
    {
     "name": "stdout",
     "output_type": "stream",
     "text": [
      "Error while executing: scp  cluster_work//ESP_312.pwi ekhi:/scratch/lorenzo/my_calculation/\n",
      "Return code: False\n"
     ]
    },
    {
     "name": "stderr",
     "output_type": "stream",
     "text": [
      "Error with cmd: ssh  ekhi 'rm -f /scratch/lorenzo/my_calculation/ESP_353.pwi /scratch/lorenzo/my_calculation/ESP_353.pwo'\n",
      "\n",
      "EXITSTATUS: 255; attempt = 1\n",
      "Error with cmd: scp  cluster_work//ESP_353.pwi ekhi:/scratch/lorenzo/my_calculation/\n",
      "\n",
      "EXITSTATUS: 1; attempt = 1\n",
      "scp  cluster_work//ESP_353.pwi ekhi:/scratch/lorenzo/my_calculation/: exit with code False\n"
     ]
    },
    {
     "name": "stdout",
     "output_type": "stream",
     "text": [
      "Error while executing: scp  cluster_work//ESP_353.pwi ekhi:/scratch/lorenzo/my_calculation/\n",
      "Return code: False\n"
     ]
    },
    {
     "name": "stderr",
     "output_type": "stream",
     "text": [
      "Error with cmd: scp  cluster_work//ESP_191.pwi ekhi:/scratch/lorenzo/my_calculation/\n",
      "\n",
      "EXITSTATUS: 1; attempt = 1\n",
      "scp  cluster_work//ESP_191.pwi ekhi:/scratch/lorenzo/my_calculation/: exit with code False\n",
      "Error with cmd: ssh  ekhi 'rm -f /scratch/lorenzo/my_calculation/ESP_272.pwi /scratch/lorenzo/my_calculation/ESP_272.pwo'\n",
      "\n",
      "EXITSTATUS: 255; attempt = 1\n"
     ]
    },
    {
     "name": "stdout",
     "output_type": "stream",
     "text": [
      "Error while executing: scp  cluster_work//ESP_191.pwi ekhi:/scratch/lorenzo/my_calculation/\n",
      "Return code: False\n"
     ]
    },
    {
     "name": "stderr",
     "output_type": "stream",
     "text": [
      "Error with cmd: ssh  ekhi 'rm -f /scratch/lorenzo/my_calculation/ESP_33.pwi /scratch/lorenzo/my_calculation/ESP_33.pwo'\n",
      "\n",
      "EXITSTATUS: 255; attempt = 1\n",
      "Error with cmd: ssh  ekhi 'rm -f /scratch/lorenzo/my_calculation/ESP_273.pwi /scratch/lorenzo/my_calculation/ESP_273.pwo'\n",
      "Error with cmd: ssh  ekhi 'rm -f /scratch/lorenzo/my_calculation/ESP_394.pwi /scratch/lorenzo/my_calculation/ESP_394.pwo'\n",
      "\n",
      "EXITSTATUS: 255; attempt = 1\n",
      "\n",
      "EXITSTATUS: 255; attempt = 1\n",
      "Error with cmd: ssh  ekhi 'rm -f /scratch/lorenzo/my_calculation/ESP_73.pwi /scratch/lorenzo/my_calculation/ESP_73.pwo'\n",
      "\n",
      "EXITSTATUS: 255; attempt = 1\n",
      "Error with cmd: scp  cluster_work//ESP_112.pwi ekhi:/scratch/lorenzo/my_calculation/\n",
      "\n",
      "EXITSTATUS: 1; attempt = 1\n",
      "scp  cluster_work//ESP_112.pwi ekhi:/scratch/lorenzo/my_calculation/: exit with code False\n"
     ]
    },
    {
     "name": "stdout",
     "output_type": "stream",
     "text": [
      "Error while executing: scp  cluster_work//ESP_112.pwi ekhi:/scratch/lorenzo/my_calculation/\n",
      "Return code: False\n"
     ]
    },
    {
     "name": "stderr",
     "output_type": "stream",
     "text": [
      "Error with cmd: ssh  ekhi 'rm -f /scratch/lorenzo/my_calculation/ESP_274.pwi /scratch/lorenzo/my_calculation/ESP_274.pwo'\n",
      "\n",
      "EXITSTATUS: 255; attempt = 1\n",
      "Error with cmd: ssh  ekhi 'rm -f /scratch/lorenzo/my_calculation/ESP_74.pwi /scratch/lorenzo/my_calculation/ESP_74.pwo'\n",
      "\n",
      "EXITSTATUS: 255; attempt = 1\n",
      "Error with cmd: ssh  ekhi 'rm -f /scratch/lorenzo/my_calculation/ESP_136.pwi /scratch/lorenzo/my_calculation/ESP_136.pwo'\n",
      "\n",
      "EXITSTATUS: 255; attempt = 1\n",
      "Error with cmd: scp  cluster_work//ESP_74.pwi ekhi:/scratch/lorenzo/my_calculation/\n",
      "\n",
      "EXITSTATUS: 1; attempt = 1\n",
      "scp  cluster_work//ESP_74.pwi ekhi:/scratch/lorenzo/my_calculation/: exit with code False\n",
      "Error with cmd: scp  cluster_work//ESP_136.pwi ekhi:/scratch/lorenzo/my_calculation/\n",
      "\n",
      "EXITSTATUS: 1; attempt = 1\n",
      "scp  cluster_work//ESP_136.pwi ekhi:/scratch/lorenzo/my_calculation/: exit with code False\n"
     ]
    },
    {
     "name": "stdout",
     "output_type": "stream",
     "text": [
      "Error while executing: scp  cluster_work//ESP_74.pwi ekhi:/scratch/lorenzo/my_calculation/\n",
      "Return code: False\n",
      "Error while executing: scp  cluster_work//ESP_136.pwi ekhi:/scratch/lorenzo/my_calculation/\n",
      "Return code: False\n"
     ]
    },
    {
     "name": "stderr",
     "output_type": "stream",
     "text": [
      "Error with cmd: scp  cluster_work//ESP_215.pwi ekhi:/scratch/lorenzo/my_calculation/\n",
      "\n",
      "EXITSTATUS: 1; attempt = 1\n",
      "scp  cluster_work//ESP_215.pwi ekhi:/scratch/lorenzo/my_calculation/: exit with code False\n",
      "Error with cmd: scp  cluster_work//ESP_34.pwi ekhi:/scratch/lorenzo/my_calculation/\n",
      "\n",
      "EXITSTATUS: 1; attempt = 1\n",
      "scp  cluster_work//ESP_34.pwi ekhi:/scratch/lorenzo/my_calculation/: exit with code False\n",
      "Error with cmd: ssh  ekhi 'rm -f /scratch/lorenzo/my_calculation/ESP_275.pwi /scratch/lorenzo/my_calculation/ESP_275.pwo'\n",
      "\n",
      "EXITSTATUS: 255; attempt = 1\n"
     ]
    },
    {
     "name": "stdout",
     "output_type": "stream",
     "text": [
      "Error while executing: scp  cluster_work//ESP_215.pwi ekhi:/scratch/lorenzo/my_calculation/\n",
      "Return code: False\n",
      "Error while executing: scp  cluster_work//ESP_34.pwi ekhi:/scratch/lorenzo/my_calculation/\n",
      "Return code: False\n"
     ]
    },
    {
     "name": "stderr",
     "output_type": "stream",
     "text": [
      "Error with cmd: scp  cluster_work//ESP_55.pwi ekhi:/scratch/lorenzo/my_calculation/\n",
      "\n",
      "EXITSTATUS: 1; attempt = 1\n",
      "scp  cluster_work//ESP_55.pwi ekhi:/scratch/lorenzo/my_calculation/: exit with code False\n",
      "Error with cmd: ssh  ekhi 'rm -f /scratch/lorenzo/my_calculation/ESP_15.pwi /scratch/lorenzo/my_calculation/ESP_15.pwo'\n",
      "\n",
      "EXITSTATUS: 255; attempt = 1\n",
      "Error with cmd: ssh  ekhi 'rm -f /scratch/lorenzo/my_calculation/ESP_56.pwi /scratch/lorenzo/my_calculation/ESP_56.pwo'\n",
      "\n",
      "EXITSTATUS: 255; attempt = 1\n",
      "Error with cmd: scp  cluster_work//ESP_95.pwi ekhi:/scratch/lorenzo/my_calculation/\n",
      "\n",
      "EXITSTATUS: 1; attempt = 1\n",
      "scp  cluster_work//ESP_95.pwi ekhi:/scratch/lorenzo/my_calculation/: exit with code False\n",
      "Error with cmd: scp  cluster_work//ESP_15.pwi ekhi:/scratch/lorenzo/my_calculation/\n",
      "\n",
      "EXITSTATUS: 1; attempt = 1\n",
      "scp  cluster_work//ESP_15.pwi ekhi:/scratch/lorenzo/my_calculation/: exit with code False\n"
     ]
    },
    {
     "name": "stdout",
     "output_type": "stream",
     "text": [
      "Error while executing: scp  cluster_work//ESP_55.pwi ekhi:/scratch/lorenzo/my_calculation/\n",
      "Return code: False\n",
      "Error while executing: scp  cluster_work//ESP_95.pwi ekhi:/scratch/lorenzo/my_calculation/\n",
      "Return code: False\n",
      "Error while executing: scp  cluster_work//ESP_15.pwi ekhi:/scratch/lorenzo/my_calculation/\n",
      "Return code: False\n"
     ]
    },
    {
     "name": "stderr",
     "output_type": "stream",
     "text": [
      "Error with cmd: scp  cluster_work//ESP_234.pwi ekhi:/scratch/lorenzo/my_calculation/\n",
      "\n",
      "EXITSTATUS: 1; attempt = 1\n",
      "scp  cluster_work//ESP_234.pwi ekhi:/scratch/lorenzo/my_calculation/: exit with code False\n"
     ]
    },
    {
     "name": "stdout",
     "output_type": "stream",
     "text": [
      "Error while executing: scp  cluster_work//ESP_234.pwi ekhi:/scratch/lorenzo/my_calculation/\n",
      "Return code: False\n"
     ]
    },
    {
     "name": "stderr",
     "output_type": "stream",
     "text": [
      "Error with cmd: ssh  ekhi 'rm -f /scratch/lorenzo/my_calculation/ESP_57.pwi /scratch/lorenzo/my_calculation/ESP_57.pwo'\n",
      "\n",
      "EXITSTATUS: 255; attempt = 1\n",
      "Error with cmd: scp  cluster_work//ESP_217.pwi ekhi:/scratch/lorenzo/my_calculation/\n",
      "\n",
      "EXITSTATUS: 1; attempt = 1\n",
      "scp  cluster_work//ESP_217.pwi ekhi:/scratch/lorenzo/my_calculation/: exit with code False\n",
      "Error with cmd: ssh  ekhi 'rm -f /scratch/lorenzo/my_calculation/ESP_77.pwi /scratch/lorenzo/my_calculation/ESP_77.pwo'\n",
      "\n",
      "EXITSTATUS: 255; attempt = 1\n",
      "Error with cmd: scp  cluster_work//ESP_77.pwi ekhi:/scratch/lorenzo/my_calculation/\n",
      "\n",
      "EXITSTATUS: 1; attempt = 1\n",
      "scp  cluster_work//ESP_77.pwi ekhi:/scratch/lorenzo/my_calculation/: exit with code False\n"
     ]
    },
    {
     "name": "stdout",
     "output_type": "stream",
     "text": [
      "Error while executing: scp  cluster_work//ESP_217.pwi ekhi:/scratch/lorenzo/my_calculation/\n",
      "Return code: False\n",
      "Error while executing: scp  cluster_work//ESP_77.pwi ekhi:/scratch/lorenzo/my_calculation/\n",
      "Return code: False\n"
     ]
    },
    {
     "name": "stderr",
     "output_type": "stream",
     "text": [
      "Error with cmd: ssh  ekhi 'rm -f /scratch/lorenzo/my_calculation/ESP_176.pwi /scratch/lorenzo/my_calculation/ESP_176.pwo'\n",
      "\n",
      "EXITSTATUS: 255; attempt = 1\n",
      "Error with cmd: ssh  ekhi 'rm -f /scratch/lorenzo/my_calculation/ESP_79.pwi /scratch/lorenzo/my_calculation/ESP_79.pwo'\n",
      "\n",
      "EXITSTATUS: 255; attempt = 1\n",
      "Error with cmd: scp  cluster_work//ESP_37.pwi ekhi:/scratch/lorenzo/my_calculation/\n",
      "\n",
      "EXITSTATUS: 1; attempt = 1\n",
      "scp  cluster_work//ESP_37.pwi ekhi:/scratch/lorenzo/my_calculation/: exit with code False\n"
     ]
    },
    {
     "name": "stdout",
     "output_type": "stream",
     "text": [
      "Error while executing: scp  cluster_work//ESP_37.pwi ekhi:/scratch/lorenzo/my_calculation/\n",
      "Return code: False\n"
     ]
    },
    {
     "name": "stderr",
     "output_type": "stream",
     "text": [
      "Error with cmd: scp  cluster_work//ESP_278.pwi ekhi:/scratch/lorenzo/my_calculation/\n",
      "\n",
      "EXITSTATUS: 1; attempt = 1\n",
      "scp  cluster_work//ESP_278.pwi ekhi:/scratch/lorenzo/my_calculation/: exit with code False\n",
      "Error with cmd: scp  cluster_work//ESP_219.pwi ekhi:/scratch/lorenzo/my_calculation/\n",
      "\n",
      "EXITSTATUS: 1; attempt = 1\n",
      "scp  cluster_work//ESP_219.pwi ekhi:/scratch/lorenzo/my_calculation/: exit with code False\n",
      "Error with cmd: scp  cluster_work//ESP_200.sh ekhi:/scratch/lorenzo/my_calculation\n",
      "\n",
      "EXITSTATUS: 1; attempt = 1\n",
      "scp  cluster_work//ESP_200.sh ekhi:/scratch/lorenzo/my_calculation: exit with code False"
     ]
    },
    {
     "name": "stdout",
     "output_type": "stream",
     "text": [
      "Error while executing: scp  cluster_work//ESP_278.pwi ekhi:/scratch/lorenzo/my_calculation/\n",
      "Return code: False\n",
      "Error while executing: scp  cluster_work//ESP_219.pwi ekhi:/scratch/lorenzo/my_calculation/\n",
      "Return code: False\n",
      "Error while executing: scp  cluster_work//ESP_200.sh ekhi:/scratch/lorenzo/my_calculation\n",
      "Return code: False\n"
     ]
    },
    {
     "name": "stderr",
     "output_type": "stream",
     "text": [
      "Error with cmd: ssh  ekhi 'rm -f /scratch/lorenzo/my_calculation/ESP_197.pwi /scratch/lorenzo/my_calculation/ESP_197.pwo'\n",
      "\n",
      "EXITSTATUS: 255; attempt = 1\n",
      "Error with cmd: ssh  ekhi 'rm -f /scratch/lorenzo/my_calculation/ESP_178.pwi /scratch/lorenzo/my_calculation/ESP_178.pwo'\n",
      "\n",
      "EXITSTATUS: 255; attempt = 1\n",
      "Error with cmd: scp  cluster_work//ESP_178.pwi ekhi:/scratch/lorenzo/my_calculation/\n",
      "\n",
      "EXITSTATUS: 1; attempt = 1\n",
      "scp  cluster_work//ESP_178.pwi ekhi:/scratch/lorenzo/my_calculation/: exit with code False\n"
     ]
    },
    {
     "name": "stdout",
     "output_type": "stream",
     "text": [
      "Error while executing: scp  cluster_work//ESP_178.pwi ekhi:/scratch/lorenzo/my_calculation/\n",
      "Return code: False\n"
     ]
    },
    {
     "name": "stderr",
     "output_type": "stream",
     "text": [
      "Error with cmd: ssh  ekhi 'rm -f /scratch/lorenzo/my_calculation/ESP_39.pwi /scratch/lorenzo/my_calculation/ESP_39.pwo'\n",
      "\n",
      "EXITSTATUS: 255; attempt = 1\n",
      "Error with cmd: scp  cluster_work//ESP_299.pwi ekhi:/scratch/lorenzo/my_calculation/\n",
      "\n",
      "EXITSTATUS: 1; attempt = 1\n",
      "scp  cluster_work//ESP_299.pwi ekhi:/scratch/lorenzo/my_calculation/: exit with code False\n",
      "Error with cmd: scp  cluster_work//ESP_260.sh ekhi:/scratch/lorenzo/my_calculation\n",
      "\n",
      "EXITSTATUS: 1; attempt = 1\n",
      "scp  cluster_work//ESP_260.sh ekhi:/scratch/lorenzo/my_calculation: exit with code FalseError with cmd: scp  cluster_work//ESP_280.sh ekhi:/scratch/lorenzo/my_calculation\n",
      "\n",
      "EXITSTATUS: 1; attempt = 1\n",
      "scp  cluster_work//ESP_280.sh ekhi:/scratch/lorenzo/my_calculation: exit with code FalseError with cmd: ssh  ekhi 'rm -f /scratch/lorenzo/my_calculation/ESP_198.pwi /scratch/lorenzo/my_calculation/ESP_198.pwo'\n",
      "\n",
      "EXITSTATUS: 255; attempt = 1\n"
     ]
    },
    {
     "name": "stdout",
     "output_type": "stream",
     "text": [
      "Error while executing: scp  cluster_work//ESP_299.pwi ekhi:/scratch/lorenzo/my_calculation/\n",
      "Return code: False\n",
      "Error while executing: scp  cluster_work//ESP_260.sh ekhi:/scratch/lorenzo/my_calculation\n",
      "Return code: False\n",
      "Error while executing: scp  cluster_work//ESP_280.sh ekhi:/scratch/lorenzo/my_calculation\n",
      "Return code: False\n"
     ]
    },
    {
     "name": "stderr",
     "output_type": "stream",
     "text": [
      "Error with cmd: scp  cluster_work//ESP_80.sh ekhi:/scratch/lorenzo/my_calculation\n",
      "\n",
      "EXITSTATUS: 1; attempt = 1\n",
      "scp  cluster_work//ESP_80.sh ekhi:/scratch/lorenzo/my_calculation: exit with code False"
     ]
    },
    {
     "name": "stdout",
     "output_type": "stream",
     "text": [
      "Error while executing: scp  cluster_work//ESP_80.sh ekhi:/scratch/lorenzo/my_calculation\n",
      "Return code: False\n"
     ]
    },
    {
     "name": "stderr",
     "output_type": "stream",
     "text": [
      "Error with cmd: ssh  ekhi 'rm -f /scratch/lorenzo/my_calculation/ESP_19.pwi /scratch/lorenzo/my_calculation/ESP_19.pwo'\n",
      "\n",
      "EXITSTATUS: 255; attempt = 1\n"
     ]
    }
   ],
   "source": [
    "# Now we can run the calculation!!!\n",
    "# In this case we fix the volume (we optimize lattice parameters)\n",
    "# But you can also fixe the target pressure (as done in the commented line)\n",
    "import os\n",
    "if not os.path.exists(\"ensembles\"):\n",
    "    os.mkdir(\"ensembles\")\n",
    "relax.vc_relax(fix_volume = True, static_bulk_modulus = 120, ensemble_loc = \"ensembles\")\n",
    "#relax.vc_relax(target_press = 120, static_bulk_modulus = 200, ensemble_loc = \"ensembles\")"
   ]
  },
  {
   "cell_type": "markdown",
   "metadata": {},
   "source": [
    "## Post processing\n",
    "Once the minimization is done, we can study how the rombohedral angle changes as a function of the iterations, to see if it wants to go toward the symmetric phase.\n",
    "We can plot the finalized results to see the stress and the pressure.\n",
    "\n",
    "First of all, we can check the results:"
   ]
  },
  {
   "cell_type": "code",
   "execution_count": 22,
   "metadata": {},
   "outputs": [
    {
     "name": "stdout",
     "output_type": "stream",
     "text": [
      "\n",
      " * * * * * * * * \n",
      " *             * \n",
      " *   RESULTS   * \n",
      " *             * \n",
      " * * * * * * * * \n",
      "\n",
      "\n",
      "Minimization ended after 129 steps\n",
      "\n",
      "Free energy = -1853253.34527653 +-      14.06024552 meV\n",
      "FC gradient modulus =      32.16788550 +-      47.26944170 bohr^2\n",
      "Struct gradient modulus =     192.76993564 +-     193.60853530 meV/A\n",
      "Kong-Liu effective sample size =  46.557795401433225\n",
      "\n",
      "\n",
      " ==== STRESS TENSOR [GPa] ==== \n",
      "    161.65205650     -0.00000000      0.00000000                0.94953511      0.00000000      0.00000000\n",
      "     -0.00000000    161.65205650     -0.00000000    +-          0.00000000      0.94953511      0.00000000\n",
      "      0.00000000     -0.00000000    163.04832202                0.00000000      0.00000000      1.51596064\n",
      "\n",
      " Ab initio average stress [GPa]:\n",
      "    157.54155362      0.00000000     -0.00000000\n",
      "     -0.00000000    157.54155362     -0.00000000\n",
      "      0.00000000     -0.00000000    158.95276365\n",
      "\n"
     ]
    }
   ],
   "source": [
    "relax.minim.finalize()\n",
    "relax.minim.plot_results()"
   ]
  },
  {
   "cell_type": "markdown",
   "metadata": {},
   "source": [
    "The previous command, as always, plots the results of the minimizations and prints the information on the last minimization, as the free energy and the final stress tensor.\n",
    "\n",
    "It is printing two kinds of stress tensors: the real one, and the average over the ab-initio stresses.\n",
    "\n",
    "The latter is just the stochastic average over the ab-initio stresses, however, it does not include the kinetic contribution, so it is not the real stress (see [Monacelli et. al. Phys. Rev. B 98, 024106](https://journals.aps.org/prb/abstract/10.1103/PhysRevB.98.024106))."
   ]
  },
  {
   "cell_type": "code",
   "execution_count": null,
   "metadata": {},
   "outputs": [],
   "source": []
  }
 ],
 "metadata": {
  "kernelspec": {
   "display_name": "Python 2",
   "language": "python",
   "name": "python2"
  },
  "language_info": {
   "codemirror_mode": {
    "name": "ipython",
    "version": 2
   },
   "file_extension": ".py",
   "mimetype": "text/x-python",
   "name": "python",
   "nbconvert_exporter": "python",
   "pygments_lexer": "ipython2",
   "version": "2.7.16"
  }
 },
 "nbformat": 4,
 "nbformat_minor": 2
}
